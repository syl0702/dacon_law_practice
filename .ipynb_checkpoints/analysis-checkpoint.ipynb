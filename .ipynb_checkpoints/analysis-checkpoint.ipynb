{
 "cells": [
  {
   "cell_type": "code",
   "execution_count": 1,
   "id": "c250b4ba-c368-4823-a2dc-abe0bc79079e",
   "metadata": {},
   "outputs": [],
   "source": [
    "import pandas as pd\n",
    "import numpy as np\n",
    "import sklearn\n",
    "import seaborn as sns\n",
    "import matplotlib as mpl\n",
    "from sklearn.preprocessing import OneHotEncoder"
   ]
  },
  {
   "cell_type": "code",
   "execution_count": 2,
   "id": "9a76ff7d-2abe-4a30-a14a-8c29362e843c",
   "metadata": {},
   "outputs": [],
   "source": [
    "df = pd.read_csv('./data./train.csv')\n",
    "test_df = pd.read_csv('./data./test.csv')"
   ]
  },
  {
   "cell_type": "code",
   "execution_count": 3,
   "id": "0204afd9-c593-4abc-8073-5e2d735a12eb",
   "metadata": {},
   "outputs": [
    {
     "data": {
      "text/plain": [
       "RangeIndex(start=0, stop=2478, step=1)"
      ]
     },
     "execution_count": 3,
     "metadata": {},
     "output_type": "execute_result"
    }
   ],
   "source": [
    "df.index"
   ]
  },
  {
   "cell_type": "code",
   "execution_count": 4,
   "id": "97b3aa49-221c-400b-ab2a-1c8f29e9e7d4",
   "metadata": {},
   "outputs": [
    {
     "name": "stdout",
     "output_type": "stream",
     "text": [
      "<class 'pandas.core.frame.DataFrame'>\n",
      "RangeIndex: 2478 entries, 0 to 2477\n",
      "Data columns (total 5 columns):\n",
      " #   Column              Non-Null Count  Dtype \n",
      "---  ------              --------------  ----- \n",
      " 0   ID                  2478 non-null   object\n",
      " 1   first_party         2478 non-null   object\n",
      " 2   second_party        2478 non-null   object\n",
      " 3   facts               2478 non-null   object\n",
      " 4   first_party_winner  2478 non-null   int64 \n",
      "dtypes: int64(1), object(4)\n",
      "memory usage: 96.9+ KB\n"
     ]
    }
   ],
   "source": [
    "df.info()"
   ]
  },
  {
   "cell_type": "code",
   "execution_count": 5,
   "id": "cb595142-2391-4368-81b8-7e3cc144e0d2",
   "metadata": {},
   "outputs": [
    {
     "data": {
      "text/html": [
       "<div>\n",
       "<style scoped>\n",
       "    .dataframe tbody tr th:only-of-type {\n",
       "        vertical-align: middle;\n",
       "    }\n",
       "\n",
       "    .dataframe tbody tr th {\n",
       "        vertical-align: top;\n",
       "    }\n",
       "\n",
       "    .dataframe thead th {\n",
       "        text-align: right;\n",
       "    }\n",
       "</style>\n",
       "<table border=\"1\" class=\"dataframe\">\n",
       "  <thead>\n",
       "    <tr style=\"text-align: right;\">\n",
       "      <th></th>\n",
       "      <th>first_party_winner</th>\n",
       "    </tr>\n",
       "  </thead>\n",
       "  <tbody>\n",
       "    <tr>\n",
       "      <th>count</th>\n",
       "      <td>2478.000000</td>\n",
       "    </tr>\n",
       "    <tr>\n",
       "      <th>mean</th>\n",
       "      <td>0.665456</td>\n",
       "    </tr>\n",
       "    <tr>\n",
       "      <th>std</th>\n",
       "      <td>0.471926</td>\n",
       "    </tr>\n",
       "    <tr>\n",
       "      <th>min</th>\n",
       "      <td>0.000000</td>\n",
       "    </tr>\n",
       "    <tr>\n",
       "      <th>25%</th>\n",
       "      <td>0.000000</td>\n",
       "    </tr>\n",
       "    <tr>\n",
       "      <th>50%</th>\n",
       "      <td>1.000000</td>\n",
       "    </tr>\n",
       "    <tr>\n",
       "      <th>75%</th>\n",
       "      <td>1.000000</td>\n",
       "    </tr>\n",
       "    <tr>\n",
       "      <th>max</th>\n",
       "      <td>1.000000</td>\n",
       "    </tr>\n",
       "  </tbody>\n",
       "</table>\n",
       "</div>"
      ],
      "text/plain": [
       "       first_party_winner\n",
       "count         2478.000000\n",
       "mean             0.665456\n",
       "std              0.471926\n",
       "min              0.000000\n",
       "25%              0.000000\n",
       "50%              1.000000\n",
       "75%              1.000000\n",
       "max              1.000000"
      ]
     },
     "execution_count": 5,
     "metadata": {},
     "output_type": "execute_result"
    }
   ],
   "source": [
    "df.describe()"
   ]
  },
  {
   "cell_type": "code",
   "execution_count": 6,
   "id": "5cacfba3-ab3d-4cc9-bd6a-4fff420eb8bc",
   "metadata": {},
   "outputs": [
    {
     "data": {
      "text/html": [
       "<div>\n",
       "<style scoped>\n",
       "    .dataframe tbody tr th:only-of-type {\n",
       "        vertical-align: middle;\n",
       "    }\n",
       "\n",
       "    .dataframe tbody tr th {\n",
       "        vertical-align: top;\n",
       "    }\n",
       "\n",
       "    .dataframe thead th {\n",
       "        text-align: right;\n",
       "    }\n",
       "</style>\n",
       "<table border=\"1\" class=\"dataframe\">\n",
       "  <thead>\n",
       "    <tr style=\"text-align: right;\">\n",
       "      <th></th>\n",
       "      <th>ID</th>\n",
       "      <th>first_party</th>\n",
       "      <th>second_party</th>\n",
       "      <th>facts</th>\n",
       "      <th>first_party_winner</th>\n",
       "    </tr>\n",
       "  </thead>\n",
       "  <tbody>\n",
       "    <tr>\n",
       "      <th>0</th>\n",
       "      <td>TRAIN_0000</td>\n",
       "      <td>Phil A. St. Amant</td>\n",
       "      <td>Herman A. Thompson</td>\n",
       "      <td>On June 27, 1962, Phil St. Amant, a candidate ...</td>\n",
       "      <td>1</td>\n",
       "    </tr>\n",
       "    <tr>\n",
       "      <th>1</th>\n",
       "      <td>TRAIN_0001</td>\n",
       "      <td>Stephen Duncan</td>\n",
       "      <td>Lawrence Owens</td>\n",
       "      <td>Ramon Nelson was riding his bike when he suffe...</td>\n",
       "      <td>0</td>\n",
       "    </tr>\n",
       "    <tr>\n",
       "      <th>2</th>\n",
       "      <td>TRAIN_0002</td>\n",
       "      <td>Billy Joe Magwood</td>\n",
       "      <td>Tony Patterson, Warden, et al.</td>\n",
       "      <td>An Alabama state court convicted Billy Joe Mag...</td>\n",
       "      <td>1</td>\n",
       "    </tr>\n",
       "    <tr>\n",
       "      <th>3</th>\n",
       "      <td>TRAIN_0003</td>\n",
       "      <td>Linkletter</td>\n",
       "      <td>Walker</td>\n",
       "      <td>Victor Linkletter was convicted in state court...</td>\n",
       "      <td>0</td>\n",
       "    </tr>\n",
       "    <tr>\n",
       "      <th>4</th>\n",
       "      <td>TRAIN_0004</td>\n",
       "      <td>William Earl Fikes</td>\n",
       "      <td>Alabama</td>\n",
       "      <td>On April 24, 1953 in Selma, Alabama, an intrud...</td>\n",
       "      <td>1</td>\n",
       "    </tr>\n",
       "  </tbody>\n",
       "</table>\n",
       "</div>"
      ],
      "text/plain": [
       "           ID         first_party                    second_party  \\\n",
       "0  TRAIN_0000   Phil A. St. Amant              Herman A. Thompson   \n",
       "1  TRAIN_0001      Stephen Duncan                  Lawrence Owens   \n",
       "2  TRAIN_0002   Billy Joe Magwood  Tony Patterson, Warden, et al.   \n",
       "3  TRAIN_0003          Linkletter                          Walker   \n",
       "4  TRAIN_0004  William Earl Fikes                         Alabama   \n",
       "\n",
       "                                               facts  first_party_winner  \n",
       "0  On June 27, 1962, Phil St. Amant, a candidate ...                   1  \n",
       "1  Ramon Nelson was riding his bike when he suffe...                   0  \n",
       "2  An Alabama state court convicted Billy Joe Mag...                   1  \n",
       "3  Victor Linkletter was convicted in state court...                   0  \n",
       "4  On April 24, 1953 in Selma, Alabama, an intrud...                   1  "
      ]
     },
     "execution_count": 6,
     "metadata": {},
     "output_type": "execute_result"
    }
   ],
   "source": [
    "df.head()"
   ]
  },
  {
   "cell_type": "code",
   "execution_count": 7,
   "id": "d13bb8ef-3aca-45e6-ba2c-03cfe82451f3",
   "metadata": {},
   "outputs": [
    {
     "data": {
      "text/plain": [
       "'On June 27, 1962, Phil St. Amant, a candidate for public office, made a television speech in Baton Rouge, Louisiana.  During this speech, St. Amant accused his political opponent of being a Communist and of being involved in criminal activities with the head of the local Teamsters Union.  Finally, St. Amant implicated Herman Thompson, an East Baton Rouge deputy sheriff, in a scheme to move money between the Teamsters Union and St. Amant’s political opponent. \\nThompson successfully sued St. Amant for defamation.  Louisiana’s First Circuit Court of Appeals reversed, holding that Thompson did not show St. Amant acted with “malice.”  Thompson then appealed to the Supreme Court of Louisiana.  That court held that, although public figures forfeit some of their First Amendment protection from defamation, St. Amant accused Thompson of a crime with utter disregard of whether the remarks were true.  Finally, that court held that the First Amendment protects uninhibited, robust debate, rather than an open season to shoot down the good name of anyone who happens to be a public servant. \\n'"
      ]
     },
     "execution_count": 7,
     "metadata": {},
     "output_type": "execute_result"
    }
   ],
   "source": [
    "df['facts'][0]"
   ]
  },
  {
   "cell_type": "code",
   "execution_count": 7,
   "id": "86bba959-59e1-4d30-bfa4-d987e0e66e2a",
   "metadata": {},
   "outputs": [
    {
     "name": "stdout",
     "output_type": "stream",
     "text": [
      "Requirement already satisfied: nltk in c:\\users\\navyb\\appdata\\local\\programs\\python\\python311\\lib\\site-packages (3.8.1)\n",
      "Requirement already satisfied: click in c:\\users\\navyb\\appdata\\local\\programs\\python\\python311\\lib\\site-packages (from nltk) (8.1.7)\n",
      "Requirement already satisfied: joblib in c:\\users\\navyb\\appdata\\local\\programs\\python\\python311\\lib\\site-packages (from nltk) (1.3.2)\n",
      "Requirement already satisfied: regex>=2021.8.3 in c:\\users\\navyb\\appdata\\local\\programs\\python\\python311\\lib\\site-packages (from nltk) (2023.10.3)\n",
      "Requirement already satisfied: tqdm in c:\\users\\navyb\\appdata\\local\\programs\\python\\python311\\lib\\site-packages (from nltk) (4.66.1)\n",
      "Requirement already satisfied: colorama in c:\\users\\navyb\\appdata\\local\\programs\\python\\python311\\lib\\site-packages (from click->nltk) (0.4.6)\n",
      "Note: you may need to restart the kernel to use updated packages.\n"
     ]
    },
    {
     "name": "stderr",
     "output_type": "stream",
     "text": [
      "\n",
      "[notice] A new release of pip is available: 23.1.2 -> 23.2.1\n",
      "[notice] To update, run: C:\\Users\\navyb\\AppData\\Local\\Programs\\Python\\Python311\\python.exe -m pip install --upgrade pip\n"
     ]
    }
   ],
   "source": [
    "pip install nltk"
   ]
  },
  {
   "cell_type": "code",
   "execution_count": 8,
   "id": "7e5f11b6-a3b2-4733-9381-ca3df1a4188e",
   "metadata": {},
   "outputs": [],
   "source": [
    "import nltk"
   ]
  },
  {
   "cell_type": "code",
   "execution_count": 9,
   "id": "3be8c036-29df-4bea-a9a2-43ab9b15bee8",
   "metadata": {},
   "outputs": [
    {
     "name": "stderr",
     "output_type": "stream",
     "text": [
      "[nltk_data] Downloading package punkt to\n",
      "[nltk_data]     C:\\Users\\navyb\\AppData\\Roaming\\nltk_data...\n",
      "[nltk_data]   Package punkt is already up-to-date!\n"
     ]
    },
    {
     "data": {
      "text/plain": [
       "True"
      ]
     },
     "execution_count": 9,
     "metadata": {},
     "output_type": "execute_result"
    }
   ],
   "source": [
    "nltk.download(\"punkt\")"
   ]
  },
  {
   "cell_type": "code",
   "execution_count": 10,
   "id": "fbaa0931-5f3f-4eb3-8529-6a62271363c6",
   "metadata": {},
   "outputs": [],
   "source": [
    "from nltk.tokenize import word_tokenize\n",
    "from nltk.corpus import stopwords"
   ]
  },
  {
   "cell_type": "code",
   "execution_count": 11,
   "id": "346bd9ed-a069-4749-a692-5900c5e72d17",
   "metadata": {},
   "outputs": [
    {
     "name": "stderr",
     "output_type": "stream",
     "text": [
      "[nltk_data] Downloading package stopwords to\n",
      "[nltk_data]     C:\\Users\\navyb\\AppData\\Roaming\\nltk_data...\n",
      "[nltk_data]   Package stopwords is already up-to-date!\n"
     ]
    },
    {
     "data": {
      "text/plain": [
       "True"
      ]
     },
     "execution_count": 11,
     "metadata": {},
     "output_type": "execute_result"
    }
   ],
   "source": [
    "nltk.download('stopwords')"
   ]
  },
  {
   "cell_type": "code",
   "execution_count": 59,
   "id": "f2f6e3c7-b888-46ea-a27b-f0e715e816b5",
   "metadata": {},
   "outputs": [],
   "source": [
    "stop_words = set(stopwords.words('english'))\n",
    "# print(stop_words)"
   ]
  },
  {
   "cell_type": "code",
   "execution_count": 35,
   "id": "c73054dd-0560-4a27-8113-3f2f64ffbc72",
   "metadata": {},
   "outputs": [
    {
     "name": "stderr",
     "output_type": "stream",
     "text": [
      "[nltk_data] Downloading package wordnet to\n",
      "[nltk_data]     C:\\Users\\navyb\\AppData\\Roaming\\nltk_data...\n"
     ]
    },
    {
     "data": {
      "text/plain": [
       "True"
      ]
     },
     "execution_count": 35,
     "metadata": {},
     "output_type": "execute_result"
    }
   ],
   "source": [
    "nltk.download('wordnet')"
   ]
  },
  {
   "cell_type": "code",
   "execution_count": 68,
   "id": "d15baf60-6ae2-4c55-b233-6b6d7516f7c1",
   "metadata": {},
   "outputs": [],
   "source": [
    "from nltk.stem import WordNetLemmatizer\n",
    "from nltk.corpus import wordnet\n",
    "lemmatizer = WordNetLemmatizer()\n",
    "data = pd.DataFrame()\n",
    "stop_words.update(['january', 'february', 'march', 'april', 'may', 'june', 'july', 'august', 'september', 'october', 'november', 'december'])\n",
    "\n",
    "for i in range(len(df)):\n",
    "    sents = list(word_tokenize(df.loc[i, 'facts']))\n",
    "    j = 0\n",
    "    texts = []\n",
    "    while j < len(sents):\n",
    "        if sents[j].lower() in stop_words:\n",
    "            sents.remove(sents[j])\n",
    "        try:\n",
    "            int(sents[j])\n",
    "            sents.remove(sents[j])\n",
    "        except ValueError:\n",
    "            word = sents[j].lower()\n",
    "            pos = wordnet.VERB\n",
    "             # texts = texts + ' ' + str(sents[j].lower())\n",
    "            lemmatized_word = lemmatizer.lemmatize(word, pos)\n",
    "            texts.append(lemmatized_word)\n",
    "            j += 1\n",
    "\n",
    "    lemmatized_txt = ' '.join(texts)\n",
    "    data.loc[i, 'facts'] = lemmatized_txt"
   ]
  },
  {
   "cell_type": "code",
   "execution_count": 28,
   "id": "2f6f3bd5-1655-46e0-8bf2-1077db134949",
   "metadata": {},
   "outputs": [
    {
     "data": {
      "text/plain": [
       "['Ramon',\n",
       " 'Nelson',\n",
       " 'was',\n",
       " 'riding',\n",
       " 'his',\n",
       " 'bike',\n",
       " 'when',\n",
       " 'he',\n",
       " 'suffered',\n",
       " 'a',\n",
       " 'lethal',\n",
       " 'blow',\n",
       " 'to',\n",
       " 'the',\n",
       " 'back',\n",
       " 'of',\n",
       " 'his',\n",
       " 'head',\n",
       " 'with',\n",
       " 'a',\n",
       " 'baseball',\n",
       " 'bat',\n",
       " '.',\n",
       " 'After',\n",
       " 'two',\n",
       " 'eyewitnesses',\n",
       " 'identified',\n",
       " 'Lawrence',\n",
       " 'Owens',\n",
       " 'from',\n",
       " 'an',\n",
       " 'array',\n",
       " 'of',\n",
       " 'photos',\n",
       " 'and',\n",
       " 'then',\n",
       " 'a',\n",
       " 'lineup',\n",
       " ',',\n",
       " 'he',\n",
       " 'was',\n",
       " 'tried',\n",
       " 'and',\n",
       " 'convicted',\n",
       " 'for',\n",
       " 'Nelson',\n",
       " '’',\n",
       " 's',\n",
       " 'death',\n",
       " '.',\n",
       " 'Because',\n",
       " 'Nelson',\n",
       " 'was',\n",
       " 'carrying',\n",
       " 'cocaine',\n",
       " 'and',\n",
       " 'crack',\n",
       " 'cocaine',\n",
       " 'potentially',\n",
       " 'for',\n",
       " 'distribution',\n",
       " ',',\n",
       " 'the',\n",
       " 'judge',\n",
       " 'at',\n",
       " 'Owens',\n",
       " '’',\n",
       " 'bench',\n",
       " 'trial',\n",
       " 'ruled',\n",
       " 'that',\n",
       " 'Owens',\n",
       " 'was',\n",
       " 'probably',\n",
       " 'also',\n",
       " 'a',\n",
       " 'drug',\n",
       " 'dealer',\n",
       " 'and',\n",
       " 'was',\n",
       " 'trying',\n",
       " 'to',\n",
       " '“',\n",
       " 'knock',\n",
       " '[',\n",
       " 'Nelson',\n",
       " ']',\n",
       " 'off.',\n",
       " '”',\n",
       " 'Owens',\n",
       " 'was',\n",
       " 'found',\n",
       " 'guilty',\n",
       " 'of',\n",
       " 'first-degree',\n",
       " 'murder',\n",
       " 'and',\n",
       " 'sentenced',\n",
       " 'to',\n",
       " '25',\n",
       " 'years',\n",
       " 'in',\n",
       " 'prison',\n",
       " '.',\n",
       " 'Owens',\n",
       " 'filed',\n",
       " 'a',\n",
       " 'petition',\n",
       " 'for',\n",
       " 'a',\n",
       " 'writ',\n",
       " 'of',\n",
       " 'habeas',\n",
       " 'corpus',\n",
       " 'on',\n",
       " 'the',\n",
       " 'grounds',\n",
       " 'that',\n",
       " 'his',\n",
       " 'constitutional',\n",
       " 'right',\n",
       " 'to',\n",
       " 'due',\n",
       " 'process',\n",
       " 'was',\n",
       " 'violated',\n",
       " 'during',\n",
       " 'the',\n",
       " 'trial',\n",
       " '.',\n",
       " 'He',\n",
       " 'argued',\n",
       " 'that',\n",
       " 'the',\n",
       " 'eyewitness',\n",
       " 'identification',\n",
       " 'should',\n",
       " 'have',\n",
       " 'been',\n",
       " 'inadmissible',\n",
       " 'based',\n",
       " 'on',\n",
       " 'unreliability',\n",
       " 'and',\n",
       " 'that',\n",
       " 'the',\n",
       " 'judge',\n",
       " 'impermissibly',\n",
       " 'inferred',\n",
       " 'a',\n",
       " 'motive',\n",
       " 'when',\n",
       " 'a',\n",
       " 'motive',\n",
       " 'was',\n",
       " 'not',\n",
       " 'an',\n",
       " 'element',\n",
       " 'of',\n",
       " 'the',\n",
       " 'offense',\n",
       " '.',\n",
       " 'The',\n",
       " 'district',\n",
       " 'court',\n",
       " 'denied',\n",
       " 'the',\n",
       " 'writ',\n",
       " 'of',\n",
       " 'habeas',\n",
       " 'corpus',\n",
       " ',',\n",
       " 'and',\n",
       " 'Owens',\n",
       " 'appealed',\n",
       " '.',\n",
       " 'The',\n",
       " 'U.S.',\n",
       " 'Court',\n",
       " 'of',\n",
       " 'Appeals',\n",
       " 'for',\n",
       " 'the',\n",
       " 'Seventh',\n",
       " 'Circuit',\n",
       " 'reversed',\n",
       " 'the',\n",
       " 'denial',\n",
       " 'and',\n",
       " 'held',\n",
       " 'that',\n",
       " 'the',\n",
       " 'trial',\n",
       " 'judge',\n",
       " '’',\n",
       " 's',\n",
       " 'inference',\n",
       " 'about',\n",
       " 'Owens',\n",
       " '’',\n",
       " 's',\n",
       " 'motive',\n",
       " 'violated',\n",
       " 'his',\n",
       " 'right',\n",
       " 'to',\n",
       " 'have',\n",
       " 'his',\n",
       " 'guilt',\n",
       " 'adjudicated',\n",
       " 'solely',\n",
       " 'based',\n",
       " 'on',\n",
       " 'the',\n",
       " 'evidence',\n",
       " 'presented',\n",
       " 'at',\n",
       " 'trial',\n",
       " '.']"
      ]
     },
     "execution_count": 28,
     "metadata": {},
     "output_type": "execute_result"
    }
   ],
   "source": [
    "word_tokenize(df.loc[1, 'facts'])"
   ]
  },
  {
   "cell_type": "code",
   "execution_count": 29,
   "id": "14fef13c-c966-4fb3-9f7e-5178c1745d1c",
   "metadata": {},
   "outputs": [
    {
     "data": {
      "text/plain": [
       "' ramon nelson riding bike he suffered lethal blow the back his head a baseball bat . two eyewitnesses identified lawrence owens an array photos then lineup , was tried convicted nelson ’ death . nelson carrying cocaine crack cocaine potentially distribution , judge owens ’ bench trial ruled owens probably also drug dealer was trying “ knock [ nelson ] off. ” owens found guilty first-degree murder sentenced years prison . owens filed petition a writ habeas corpus the grounds his constitutional right due process violated the trial . argued the eyewitness identification have inadmissible based unreliability that judge impermissibly inferred motive a motive not element the offense . district court denied writ habeas corpus , owens appealed . u.s. court appeals the seventh circuit reversed denial held the trial judge ’ inference owens ’ motive violated right have guilt adjudicated solely based the evidence presented trial .'"
      ]
     },
     "execution_count": 29,
     "metadata": {},
     "output_type": "execute_result"
    }
   ],
   "source": [
    "data.loc[1, 'facts']"
   ]
  },
  {
   "cell_type": "code",
   "execution_count": 30,
   "id": "be60295b-c969-4490-ab24-1e6e5ab9d2b8",
   "metadata": {},
   "outputs": [
    {
     "data": {
      "text/plain": [
       "\" herbert markman owns patent a system tracks clothing the dry-cleaning process using keyboard data processor generate transaction records , including bar code readable optical detectors . according the patent 's claim , portion the patent document defines patentee 's rights , markman 's product `` maintain inventory total '' `` detect localize spurious additions inventory . '' westview instruments , inc. 's product also uses keyboard processor lists dry-cleaning charges bar-coded tickets can read optical detectors . an infringement suit , hearing expert witness testify the meaning the claim 's language , jury found westview 's product infringed markman 's patent . however , district court directed verdict westview the ground its device unable track `` inventory '' that term used the claim . affirming , court appeals held the interpretation claim terms the exclusive province the court that seventh amendment right a jury trial consistent that conclusion .\""
      ]
     },
     "execution_count": 30,
     "metadata": {},
     "output_type": "execute_result"
    }
   ],
   "source": [
    "texts"
   ]
  },
  {
   "cell_type": "code",
   "execution_count": 31,
   "id": "f59b227a-e20c-4b49-8060-653d425edac9",
   "metadata": {},
   "outputs": [
    {
     "data": {
      "text/plain": [
       "\"herbert markm own pat a system track cloth the dry-cleaning process us keyboard dat process gen transact record , includ bar cod read opt detect . accord the pat 's claim , port the pat docu defin pat 's right , markm 's produc `` maintain inv tot `` `` detect loc spury addit inv . `` westview instru , inc. 's produc also us keyboard process list dry-cleaning charg bar-coded ticket can read opt detect . an infr suit , hear expert wit test the mean the claim 's langu , jury found westview 's produc infr markm 's pat . howev , district court direct verdict westview the ground it dev un track `` inv `` that term us the claim . affirm , court ap held the interpret claim term the exclud provint the court that seven amend right a jury tri consist that conclud .\""
      ]
     },
     "execution_count": 31,
     "metadata": {},
     "output_type": "execute_result"
    }
   ],
   "source": [
    "stemmed_txt"
   ]
  },
  {
   "cell_type": "code",
   "execution_count": 41,
   "id": "f1adf60c-2455-409f-878d-e5431592daff",
   "metadata": {},
   "outputs": [
    {
     "data": {
      "text/plain": [
       "\"herbert markman owns patent a system track clothing the dry-cleaning process using keyboard data processor generate transaction record , including bar code readable optical detector . according the patent 's claim , portion the patent document defines patentee 's right , markman 's product `` maintain inventory total '' `` detect localize spurious addition inventory . '' westview instrument , inc. 's product also us keyboard processor list dry-cleaning charge bar-coded ticket can read optical detector . an infringement suit , hearing expert witness testify the meaning the claim 's language , jury found westview 's product infringed markman 's patent . however , district court directed verdict westview the ground it device unable track `` inventory '' that term used the claim . affirming , court appeal held the interpretation claim term the exclusive province the court that seventh amendment right a jury trial consistent that conclusion .\""
      ]
     },
     "execution_count": 41,
     "metadata": {},
     "output_type": "execute_result"
    }
   ],
   "source": [
    "lemmatized_txt"
   ]
  },
  {
   "cell_type": "code",
   "execution_count": 69,
   "id": "257445ec-afed-40c9-9ba0-e80cb06a4e50",
   "metadata": {},
   "outputs": [
    {
     "data": {
      "text/plain": [
       "'june , , phil st. amant , candidate public office , make television speech baton rouge , louisiana . this speech , st. amant accuse political opponent be communist of involve criminal activities the head the local teamsters union . finally , st. amant implicate herman thompson , east baton rouge deputy sheriff , a scheme move money the teamsters union st. amant ’ political opponent . thompson successfully sue st. amant defamation . louisiana ’ first circuit court appeal reverse , hold thompson not show st. amant act “ malice. ” thompson appeal the supreme court louisiana . court hold , although public figure forfeit of first amendment protection defamation , st. amant accuse thompson a crime utter disregard whether remark true . finally , court hold the first amendment protect uninhibited , robust debate , rather an open season shoot the good name anyone happen be public servant .'"
      ]
     },
     "execution_count": 69,
     "metadata": {},
     "output_type": "execute_result"
    }
   ],
   "source": [
    "data.loc[0, 'facts']"
   ]
  },
  {
   "cell_type": "code",
   "execution_count": 70,
   "id": "6bb298b1-a8c0-4747-854d-16dc84fdcd39",
   "metadata": {},
   "outputs": [
    {
     "data": {
      "text/plain": [
       "'april , selma , alabama , intruder break the apartment the daughter the city mayor . daughter the intruder struggle several room she able seize knife , he flee . assailant a towel his head , the victim could identify defendant the trial . police apprehend william earl fikes the basis a call a private citizen hold “ an open charge investigation. ” police question fikes hours , place in jail , limit access anyone familiar . nearly week this treatment , fikes confess the form answer the interrogator ’ lead question . five days later , fikes confess question second time . these confessions admit the trial evidence , fikes not testify regard events surround interrogation the judge rule would subject unlimited cross-examination . jury convict fikes sentence to death . supreme court alabama affirm .'"
      ]
     },
     "execution_count": 70,
     "metadata": {},
     "output_type": "execute_result"
    }
   ],
   "source": [
    "data.loc[4, 'facts']"
   ]
  },
  {
   "cell_type": "code",
   "execution_count": null,
   "id": "a54ead3a-864d-4ec2-b017-d1c137f5d3b5",
   "metadata": {},
   "outputs": [],
   "source": []
  }
 ],
 "metadata": {
  "kernelspec": {
   "display_name": "Python 3 (ipykernel)",
   "language": "python",
   "name": "python3"
  },
  "language_info": {
   "codemirror_mode": {
    "name": "ipython",
    "version": 3
   },
   "file_extension": ".py",
   "mimetype": "text/x-python",
   "name": "python",
   "nbconvert_exporter": "python",
   "pygments_lexer": "ipython3",
   "version": "3.11.4"
  }
 },
 "nbformat": 4,
 "nbformat_minor": 5
}
